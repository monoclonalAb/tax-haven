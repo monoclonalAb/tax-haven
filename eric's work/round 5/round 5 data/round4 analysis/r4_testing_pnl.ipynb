{
 "cells": [
  {
   "cell_type": "code",
   "execution_count": 2,
   "metadata": {},
   "outputs": [],
   "source": [
    "%matplotlib ipympl\n",
    "import pandas as pd\n",
    "import numpy as np\n",
    "import matplotlib.pyplot as plt\n",
    "import math"
   ]
  },
  {
   "cell_type": "code",
   "execution_count": 3,
   "metadata": {},
   "outputs": [],
   "source": [
    "inp_df = pd.read_csv(\"trades_round_4_day_1_wn.csv\",delimiter=\";\")\n",
    "inp_df2 = pd.read_csv(\"trades_round_4_day_2_wn.csv\",delimiter=\";\")\n",
    "inp_df3 = pd.read_csv(\"trades_round_4_day_3_wn.csv\",delimiter=\";\")\n",
    "price_df = pd.read_csv(\"prices_round_4_day_1.csv\",delimiter=\";\")\n",
    "price_df2 = pd.read_csv(\"prices_round_4_day_2.csv\",delimiter=\";\")\n",
    "price_df3 = pd.read_csv(\"prices_round_4_day_3.csv\",delimiter=\";\")\n",
    "prices_coco1 = pd.DataFrame(price_df[price_df[\"product\"] == \"COCONUT\"]).reset_index(drop = True)\n",
    "prices_coco2 = pd.DataFrame(price_df2[price_df2[\"product\"] == \"COCONUT\"]).reset_index(drop = True)\n",
    "prices_coco3 = pd.DataFrame(price_df3[price_df3[\"product\"] == \"COCONUT\"]).reset_index(drop = True)\n",
    "prices_coup1 = pd.DataFrame(price_df[price_df[\"product\"] == \"COCONUT_COUPON\"]).reset_index(drop = True)\n",
    "prices_coup2 = pd.DataFrame(price_df2[price_df2[\"product\"] == \"COCONUT_COUPON\"]).reset_index(drop = True)\n",
    "prices_coup3 = pd.DataFrame(price_df3[price_df3[\"product\"] == \"COCONUT_COUPON\"]).reset_index(drop = True)\n",
    "df1_coco = pd.DataFrame(inp_df[inp_df[\"symbol\"] == \"COCONUT\"]).reset_index(drop=True)\n",
    "df2_coco = pd.DataFrame(inp_df2[inp_df2[\"symbol\"] == \"COCONUT\"]).reset_index(drop=True)\n",
    "df3_coco = pd.DataFrame(inp_df2[inp_df2[\"symbol\"] == \"COCONUT\"]).reset_index(drop=True)\n",
    "df1_coup = pd.DataFrame(inp_df[inp_df[\"symbol\"] == \"COCONUT_COUPON\"]).reset_index(drop=True)\n",
    "df2_coup = pd.DataFrame(inp_df2[inp_df2[\"symbol\"] == \"COCONUT_COUPON\"]).reset_index(drop=True)\n",
    "df3_coup = pd.DataFrame(inp_df2[inp_df2[\"symbol\"] == \"COCONUT_COUPON\"]).reset_index(drop=True)\n",
    "trades_coco = pd.concat([df1_coco,df2_coco,df3_coco], axis= 0, ignore_index=True)\n",
    "trades_coup = pd.concat([df1_coup,df2_coup,df3_coup], axis= 0, ignore_index=True)\n",
    "prices_coco = pd.concat([prices_coco1,prices_coco2,prices_coco3], axis= 0, ignore_index=True)\n",
    "prices_coup = pd.concat([prices_coup1,prices_coup2,prices_coup3], axis= 0, ignore_index=True)"
   ]
  },
  {
   "cell_type": "code",
   "execution_count": 4,
   "metadata": {},
   "outputs": [
    {
     "data": {
      "text/plain": [
       "9999    10135.0\n",
       "Name: mid_price, dtype: float64"
      ]
     },
     "execution_count": 4,
     "metadata": {},
     "output_type": "execute_result"
    }
   ],
   "source": [
    "prices_coco1[-1:][\"mid_price\"]"
   ]
  },
  {
   "cell_type": "code",
   "execution_count": 5,
   "metadata": {},
   "outputs": [
    {
     "name": "stdout",
     "output_type": "stream",
     "text": [
      "- for coco1\n",
      "Vinnie pnl: -1821.0, position: 24\n",
      "Raj pnl: 2255.0, position: -3\n",
      "Rhianna pnl: -434.0, position: -21\n",
      "- for coco2\n",
      "Vinnie pnl: -2664.0, position: 47\n",
      "Rhianna pnl: 560.0, position: -9\n",
      "Raj pnl: 2104.0, position: -38\n",
      "- for coco3\n",
      "Vinnie pnl: -7740.0, position: 47\n",
      "Rhianna pnl: 1532.0, position: -9\n",
      "Raj pnl: 6208.0, position: -38\n"
     ]
    }
   ],
   "source": [
    "def pnl (text, prices, trades):\n",
    "  # names = [\"Valentina\", \"Vinnie\", \"Vladimir\", \"Vivian\", \"Celeste\", \"Colin\", \"Carlos\", \"Camilla\", \"Pablo\", \"Penelope\", \"Percy\", \"Petunia\", \"Ruby\", \"Remy\", \"Rihanna\", \"Raj\", \"Amelia\", \"Adam\", \"Alina\", \"Amir\"]\n",
    "  names = trades[\"buyer\"].unique()\n",
    "  print(\"- for \" + f\"{text}\")\n",
    "  for name in names:\n",
    "      temp1 = trades[trades[\"buyer\"] == f\"{name}\"]\n",
    "      temp2 = trades[trades[\"seller\"] == f\"{name}\"]\n",
    "      buys = (temp1[\"price\"]*temp1[\"quantity\"]).sum()\n",
    "      sells = (temp2[\"price\"]*temp2[\"quantity\"]).sum()\n",
    "      position = temp1[\"quantity\"].sum()-temp2[\"quantity\"].sum()\n",
    "      mid = int(prices[-1:][\"mid_price\"].iloc[0])\n",
    "      print(f\"{name} pnl: \" + str(sells-buys+position*mid) + \", position: \" + str(position))\n",
    "pnl(\"coco1\", prices_coco1, df1_coco)\n",
    "pnl(\"coco2\", prices_coco2, df2_coco)\n",
    "pnl(\"coco3\", prices_coco3, df3_coco)\n",
    "# raj and rhianna are cooking (potentially)"
   ]
  },
  {
   "cell_type": "code",
   "execution_count": 6,
   "metadata": {},
   "outputs": [
    {
     "name": "stdout",
     "output_type": "stream",
     "text": [
      "- for coup1\n",
      "Valentina pnl: 190521.0, position: 8115\n",
      "Vinnie pnl: -186911.0, position: -7431\n",
      "Vladimir pnl: 10752.0, position: 324\n",
      "Ruby pnl: 13781.0, position: 94\n",
      "Rhianna pnl: -28143.0, position: -1102\n",
      "- for coup2\n",
      "Valentina pnl: -442865.0, position: 8857\n",
      "Ruby pnl: 12152.0, position: -120\n",
      "Vladimir pnl: -10298.0, position: 219\n",
      "Vinnie pnl: 374398.0, position: -7699\n",
      "Rhianna pnl: 66613.0, position: -1257\n",
      "- for coup3\n",
      "Valentina pnl: -841430.0, position: 8857\n",
      "Ruby pnl: 17552.0, position: -120\n",
      "Vladimir pnl: -20153.0, position: 219\n",
      "Vinnie pnl: 720853.0, position: -7699\n",
      "Rhianna pnl: 123178.0, position: -1257\n"
     ]
    }
   ],
   "source": [
    "pnl(\"coup1\", prices_coup1, df1_coup)\n",
    "pnl(\"coup2\", prices_coup2, df2_coup)\n",
    "pnl(\"coup3\", prices_coup3, df3_coup)\n",
    "# ruby is a chef (potentially)"
   ]
  },
  {
   "cell_type": "code",
   "execution_count": 7,
   "metadata": {},
   "outputs": [],
   "source": [
    "prices_coco.index *= 10\n",
    "prices_coup.index *= 10"
   ]
  }
 ],
 "metadata": {
  "kernelspec": {
   "display_name": "3.12.2 tax haven - prosperity2 2024",
   "language": "python",
   "name": "python3"
  },
  "language_info": {
   "codemirror_mode": {
    "name": "ipython",
    "version": 3
   },
   "file_extension": ".py",
   "mimetype": "text/x-python",
   "name": "python",
   "nbconvert_exporter": "python",
   "pygments_lexer": "ipython3",
   "version": "3.12.2"
  }
 },
 "nbformat": 4,
 "nbformat_minor": 2
}
