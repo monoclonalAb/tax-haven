{
 "cells": [
  {
   "cell_type": "code",
   "execution_count": 1,
   "metadata": {},
   "outputs": [],
   "source": [
    "%matplotlib ipympl\n",
    "import pandas as pd\n",
    "import numpy as np\n",
    "from statistics import NormalDist\n",
    "from matplotlib import pyplot as plt"
   ]
  },
  {
   "cell_type": "code",
   "execution_count": 28,
   "metadata": {},
   "outputs": [],
   "source": [
    "# Round 1\n",
    "# Valentina - profitable trader?\n",
    "# Vinnie - researcher and silent\n",
    "# Vladimir - ruthless trader, spreding fake news and misinformation, coils around investments waiting for perfect squeeze\n",
    "# Ruby - part-time, probably not a good trader\n",
    "# Remy - \n",
    "# Rhianna - rumoured to be dating Vinnie\n",
    "# Adam - "
   ]
  },
  {
   "cell_type": "code",
   "execution_count": 33,
   "metadata": {},
   "outputs": [
    {
     "data": {
      "text/plain": [
       "array(['Valentina', 'Vladimir', 'Rhianna', 'Remy', 'Ruby', 'Vinnie',\n",
       "       'Adam', 'Amelia'], dtype=object)"
      ]
     },
     "execution_count": 33,
     "metadata": {},
     "output_type": "execute_result"
    }
   ],
   "source": [
    "def initialise_data(round: int, day: int):\n",
    "  df_0 = pd.read_csv(\"trades_round_\" + str(round) + \"_day_\" + str(day) + \"_wn.csv\", delimiter=\";\", index_col=False)\n",
    "  \n",
    "  df_1 = pd.read_csv(\"trades_round_\" + str(round) + \"_day_\" + str(day + 1) + \"_wn.csv\", delimiter=\";\")\n",
    "\n",
    "  df_2 = pd.read_csv(\"trades_round_\" + str(round) + \"_day_\" + str(day + 2) + \"_wn.csv\", delimiter=\";\")\n",
    "\n",
    "  return df_0, df_1, df_2\n",
    "\n",
    "df0_r1, df1_r1, df2_r1 = initialise_data(1, -2)\n",
    "df0_r3, df1_r3, df2_r3 = initialise_data(3, 0)\n",
    "df0_r4, df1_r4, df2_r4 = initialise_data(4, 1)\n",
    "df0_r1[\"buyer\"].unique()\n",
    "df2_r1[\"seller\"].unique()"
   ]
  },
  {
   "cell_type": "code",
   "execution_count": null,
   "metadata": {},
   "outputs": [],
   "source": []
  },
  {
   "cell_type": "code",
   "execution_count": null,
   "metadata": {},
   "outputs": [],
   "source": [
    "amethyst0 = df0_r1[\"AMETHYST\"]\n",
    "starfruit0 = df0_r1[\"STARFRUIT\"]\n"
   ]
  },
  {
   "cell_type": "code",
   "execution_count": 17,
   "metadata": {},
   "outputs": [
    {
     "data": {
      "text/plain": [
       "array(['Vinnie', 'Remy', 'Rhianna', 'Vladimir', 'Ruby'], dtype=object)"
      ]
     },
     "execution_count": 17,
     "metadata": {},
     "output_type": "execute_result"
    }
   ],
   "source": [
    "df2_r3[\"buyer\"].unique()"
   ]
  },
  {
   "cell_type": "code",
   "execution_count": 22,
   "metadata": {},
   "outputs": [
    {
     "data": {
      "text/plain": [
       "array(['Valentina', 'Vinnie', 'Ruby', 'Vladimir', 'Raj', 'Rhianna'],\n",
       "      dtype=object)"
      ]
     },
     "execution_count": 22,
     "metadata": {},
     "output_type": "execute_result"
    }
   ],
   "source": [
    "df2_r4[\"buyer\"].unique()"
   ]
  }
 ],
 "metadata": {
  "kernelspec": {
   "display_name": "3.12.2 tax haven - prosperity2 2024",
   "language": "python",
   "name": "python3"
  },
  "language_info": {
   "codemirror_mode": {
    "name": "ipython",
    "version": 3
   },
   "file_extension": ".py",
   "mimetype": "text/x-python",
   "name": "python",
   "nbconvert_exporter": "python",
   "pygments_lexer": "ipython3",
   "version": "3.12.2"
  }
 },
 "nbformat": 4,
 "nbformat_minor": 2
}
